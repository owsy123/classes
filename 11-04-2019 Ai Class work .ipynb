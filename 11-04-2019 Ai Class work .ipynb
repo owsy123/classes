{
 "cells": [
  {
   "cell_type": "code",
   "execution_count": 1,
   "metadata": {},
   "outputs": [],
   "source": [
    "class Person():\n",
    "    def __init__(self , name , age , gender):\n",
    "        self.name = name\n",
    "        self.age = age\n",
    "        self.gender = gender\n",
    "    def get_details(self):\n",
    "        details = f'{self.name} {self.age} {self.gender}'\n",
    "        return details\n",
    "    def name (self):\n",
    "        print (\"Name is \" + self.name)\n",
    "    def age (self):\n",
    "        print (\"age is \" + self.age)\n",
    "    def gender (self):\n",
    "        print (\"gender is \" + self.gender)\n",
    "details_of_person = Person (\"Owais\" , \"19\", \"Male\")\n",
    "        "
   ]
  },
  {
   "cell_type": "code",
   "execution_count": 2,
   "metadata": {},
   "outputs": [
    {
     "data": {
      "text/plain": [
       "'Male'"
      ]
     },
     "execution_count": 2,
     "metadata": {},
     "output_type": "execute_result"
    }
   ],
   "source": [
    "details_of_person. gender"
   ]
  },
  {
   "cell_type": "code",
   "execution_count": 3,
   "metadata": {},
   "outputs": [
    {
     "data": {
      "text/plain": [
       "'19'"
      ]
     },
     "execution_count": 3,
     "metadata": {},
     "output_type": "execute_result"
    }
   ],
   "source": [
    "details_of_person. age\n"
   ]
  },
  {
   "cell_type": "code",
   "execution_count": 4,
   "metadata": {},
   "outputs": [
    {
     "data": {
      "text/plain": [
       "'Owais'"
      ]
     },
     "execution_count": 4,
     "metadata": {},
     "output_type": "execute_result"
    }
   ],
   "source": [
    "details_of_person. name"
   ]
  },
  {
   "cell_type": "code",
   "execution_count": 60,
   "metadata": {},
   "outputs": [],
   "source": [
    "class Patient(Person):\n",
    "    def __init__(self , name , age , gender , location , disease , contact):\n",
    "        super().__init__( name , age , gender)\n",
    "        self.location = location\n",
    "        self.disease = disease\n",
    "        self.contact = contact\n",
    "    def get_location (self):\n",
    "        print (\"location is \" + self.location)\n",
    "    def get_disease (self):\n",
    "        print (\"disease is \" + self.disease)\n",
    "    def get_contact1 (self):\n",
    "        print (\"contact is \"+ str(self.contact))\n",
    "\n",
    "\n"
   ]
  },
  {
   "cell_type": "code",
   "execution_count": 61,
   "metadata": {},
   "outputs": [],
   "source": [
    "new_person = Patient('owais' , 19 , 'male' , 'axiom' , 'fever' , 3412227906 )"
   ]
  },
  {
   "cell_type": "code",
   "execution_count": 62,
   "metadata": {},
   "outputs": [
    {
     "name": "stdout",
     "output_type": "stream",
     "text": [
      "contact is 3412227906\n"
     ]
    }
   ],
   "source": [
    "new_person.get_contact1()"
   ]
  },
  {
   "cell_type": "code",
   "execution_count": 54,
   "metadata": {},
   "outputs": [
    {
     "name": "stdout",
     "output_type": "stream",
     "text": [
      "location is axiom\n"
     ]
    }
   ],
   "source": [
    "new_person.get_location()"
   ]
  },
  {
   "cell_type": "code",
   "execution_count": 55,
   "metadata": {},
   "outputs": [
    {
     "data": {
      "text/plain": [
       "'axiom'"
      ]
     },
     "execution_count": 55,
     "metadata": {},
     "output_type": "execute_result"
    }
   ],
   "source": [
    "new_person.location"
   ]
  },
  {
   "cell_type": "code",
   "execution_count": 88,
   "metadata": {},
   "outputs": [
    {
     "name": "stdout",
     "output_type": "stream",
     "text": [
      "disease is fever\n"
     ]
    }
   ],
   "source": [
    "new_person.get_disease()"
   ]
  },
  {
   "cell_type": "code",
   "execution_count": 136,
   "metadata": {},
   "outputs": [],
   "source": [
    "class Disease ():\n",
    "    def __init__(self):\n",
    "        self.des = \"sugar\"\n",
    "    def get_des(self):\n",
    "        print(\"this Paitent having \" + self.des)"
   ]
  },
  {
   "cell_type": "code",
   "execution_count": 137,
   "metadata": {},
   "outputs": [],
   "source": [
    "class Doctor (Person):\n",
    "    def __init__(self , name , age , gender , location , disease , contact):\n",
    "        super().__init__( name , age , gender )\n",
    "        self.timings = \"timings\"\n",
    "        self.des = Disease()\n",
    "    def get_timings(self):\n",
    "        print(self.timings)\n",
    "        \n",
    "    \n",
    "    "
   ]
  },
  {
   "cell_type": "code",
   "execution_count": 138,
   "metadata": {},
   "outputs": [],
   "source": [
    "old_doctor = Doctor ('owais' , 19 , 'male' , 'axiom' , 'fever' , 3412227906)"
   ]
  },
  {
   "cell_type": "code",
   "execution_count": 139,
   "metadata": {},
   "outputs": [],
   "source": [
    "#make class of disease, \n",
    "#make init \"name\"\n",
    "#define in Attribute\n",
    "#method of printing name"
   ]
  },
  {
   "cell_type": "code",
   "execution_count": 140,
   "metadata": {},
   "outputs": [
    {
     "data": {
      "text/plain": [
       "'sugar'"
      ]
     },
     "execution_count": 140,
     "metadata": {},
     "output_type": "execute_result"
    }
   ],
   "source": [
    "old_doctor.des.des"
   ]
  },
  {
   "cell_type": "code",
   "execution_count": 141,
   "metadata": {},
   "outputs": [
    {
     "name": "stdout",
     "output_type": "stream",
     "text": [
      "this Paitent having sugar\n"
     ]
    }
   ],
   "source": [
    "old_doctor.des.get_des()"
   ]
  },
  {
   "cell_type": "code",
   "execution_count": null,
   "metadata": {},
   "outputs": [],
   "source": []
  }
 ],
 "metadata": {
  "kernelspec": {
   "display_name": "Python 3",
   "language": "python",
   "name": "python3"
  },
  "language_info": {
   "codemirror_mode": {
    "name": "ipython",
    "version": 3
   },
   "file_extension": ".py",
   "mimetype": "text/x-python",
   "name": "python",
   "nbconvert_exporter": "python",
   "pygments_lexer": "ipython3",
   "version": "3.7.1"
  }
 },
 "nbformat": 4,
 "nbformat_minor": 2
}
